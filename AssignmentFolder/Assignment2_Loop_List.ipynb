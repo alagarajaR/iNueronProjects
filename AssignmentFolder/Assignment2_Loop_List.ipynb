{
 "cells": [
  {
   "cell_type": "markdown",
   "metadata": {},
   "source": [
    "## 1. Create the below pattern using nested for loop in Python.\n",
    "\n",
    "Sample Output:\n",
    " *\n",
    " * *\n",
    " * * *\n",
    " * * * *\n",
    " * * * * *\n",
    " * * * *\n",
    " * * *\n",
    " * *\n",
    " *"
   ]
  },
  {
   "cell_type": "code",
   "execution_count": 2,
   "metadata": {},
   "outputs": [
    {
     "name": "stdout",
     "output_type": "stream",
     "text": [
      "\n",
      "* \n",
      "* * \n",
      "* * * \n",
      "* * * * \n",
      "* * * * * \n",
      "* * * * \n",
      "* * * \n",
      "* * \n",
      "* \n"
     ]
    }
   ],
   "source": [
    "finalIndex=5;\n",
    "for idx1 in range(finalIndex):\n",
    "    for idx2 in range(idx1):\n",
    "        print ('* ', end=\"\")\n",
    "    print('')\n",
    "\n",
    "for idx1 in range(finalIndex,0,-1):\n",
    "    for idx2 in range(idx1):\n",
    "        print('* ', end=\"\")\n",
    "    print('')"
   ]
  },
  {
   "cell_type": "markdown",
   "metadata": {},
   "source": [
    "## 2. Write a Python program to reverse a word after accepting the input from the user.\n",
    "Input word: ineuron\n",
    "Output: norueni"
   ]
  },
  {
   "cell_type": "code",
   "execution_count": 6,
   "metadata": {},
   "outputs": [
    {
     "name": "stdout",
     "output_type": "stream",
     "text": [
      "Enter the word that has to be reversed: Iron Man\n",
      "naM norI\n"
     ]
    }
   ],
   "source": [
    "inputStr = input(\"Enter the word that has to be reversed: \")\n",
    "print(inputStr[::-1])"
   ]
  }
 ],
 "metadata": {
  "kernelspec": {
   "display_name": "Python 3",
   "language": "python",
   "name": "python3"
  },
  "language_info": {
   "codemirror_mode": {
    "name": "ipython",
    "version": 3
   },
   "file_extension": ".py",
   "mimetype": "text/x-python",
   "name": "python",
   "nbconvert_exporter": "python",
   "pygments_lexer": "ipython3",
   "version": "3.7.1"
  }
 },
 "nbformat": 4,
 "nbformat_minor": 2
}
