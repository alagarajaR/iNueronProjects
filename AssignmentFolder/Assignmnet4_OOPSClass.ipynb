{
 "cells": [
  {
   "cell_type": "markdown",
   "metadata": {},
   "source": [
    "1.1 Write a Python Program(with class concepts) to find the area of the triangle using the below formula.\n",
    "area = (s*(s-a)*(s-b)*(s-c)) ** 0.5\n",
    "Function to take the length of the sides of triangle from user should be defined in the parent class and function to calculate the area should be defined in subclass."
   ]
  },
  {
   "cell_type": "code",
   "execution_count": null,
   "metadata": {},
   "outputs": [],
   "source": [
    "class sidesofTriangle:\n",
    "    def __init__(self,a,b,c):\n",
    "        self.a = a\n",
    "        self.b = b\n",
    "        self.c = c\n",
    "\n",
    "class triangle(sidesofTriangle):\n",
    "    def __init__(self,a,b,c):\n",
    "        super().__init__(a,b,c)\n",
    "    \n",
    "    def calc_area(self):\n",
    "        s = (self.a + self.b + self.c) / 2\n",
    "        self.area = float((s * (s - self.a) * (s - self.b) * (s - self.c))) ** 0.5\n",
    "    \n",
    "    def get_area(self):\n",
    "        return self.area   \n",
    "    \n",
    "a= float(input(\"Enter value of a=\"))\n",
    "b= float(input(\"Enter value of b=\"))\n",
    "c= float(input(\"Enter value of c=\")) \n",
    "    \n",
    "objTrian = triangle(a, b, c)\n",
    "objTrian.calc_area()\n",
    "print('Area of triangle is ', objTrian.get_area())"
   ]
  },
  {
   "cell_type": "markdown",
   "metadata": {},
   "source": [
    "1.2 Write a function filter_long_words() that takes a list of words and an integer n and returns the list of words that are longer than n."
   ]
  },
  {
   "cell_type": "code",
   "execution_count": null,
   "metadata": {},
   "outputs": [],
   "source": [
    "class clsFilter:\n",
    "    def __init__(self,inputWords,inpLength):\n",
    "        self.inputWords = inputWords\n",
    "        self.inpLength = int(inpLength)\n",
    "    \n",
    "    def filter_long_words(self):\n",
    "        return [wrds for wrds in self.inputWords if len(wrds) > self.inpLength]\n",
    "\n",
    "words = input(\"Enter the Words with Space\")\n",
    "lenToFilter = input(\"Enter the Length of Words to Filter\")\n",
    "\n",
    "objclsFilter = clsFilter(words.split(),lenToFilter)\n",
    "print(\"Output Strings : \",objclsFilter.filter_long_words())"
   ]
  },
  {
   "cell_type": "markdown",
   "metadata": {},
   "source": [
    "2.1 Write a Python program using function concept that maps list of words into a list of integers representing the lengths of the corresponding words.\n",
    "Hint: If a list [ ab,cde,erty] is passed on to the python function output should come as [2,3,4]\n",
    "Here 2,3 and 4 are the lengths of the words in the list."
   ]
  },
  {
   "cell_type": "code",
   "execution_count": null,
   "metadata": {},
   "outputs": [],
   "source": [
    "def mapWordsToLength(lstInput):\n",
    "    return list(map(len,lstInput))\n",
    "\n",
    "#inputList = ['This','is','sample','string','to','be','tested']\n",
    "\n",
    "inputList = list(input(\"Please enter the words for which a list will be returned which has length of each word\").split(\" \"))\n",
    "\n",
    "print(\"Length of each string in list is \",mapWordsToLength(inputList))"
   ]
  },
  {
   "cell_type": "markdown",
   "metadata": {},
   "source": [
    "2.2 Write a Python function which takes a character (i.e. a string of length 1) and returns True if it is a vowel, False otherwise."
   ]
  },
  {
   "cell_type": "code",
   "execution_count": 1,
   "metadata": {},
   "outputs": [
    {
     "name": "stdout",
     "output_type": "stream",
     "text": [
      "Input a character to check if its Vowel or not: a\n",
      "VowelCheck for the entered char returns : True\n"
     ]
    }
   ],
   "source": [
    "def check_Vowel(inputChar):\n",
    "    lstVowel=['a','e','i','o','u']\n",
    "    if (inputChar.lower() in lstVowel):\n",
    "        return_value= True\n",
    "    else:\n",
    "        return_value= False\n",
    "    return return_value\n",
    "inputc = input(\"Input a character to check if its Vowel or not: \")\n",
    "print(\"VowelCheck for the entered char returns :\",check_Vowel(inputc))"
   ]
  },
  {
   "cell_type": "code",
   "execution_count": 2,
   "metadata": {},
   "outputs": [
    {
     "name": "stdout",
     "output_type": "stream",
     "text": [
      "Input a character to check if its Vowel or not: b\n",
      "VowelCheck for the entered char returns : False\n"
     ]
    }
   ],
   "source": [
    "inputc = input(\"Input a character to check if its Vowel or not: \")\n",
    "print(\"VowelCheck for the entered char returns :\",check_Vowel(inputc))"
   ]
  },
  {
   "cell_type": "code",
   "execution_count": null,
   "metadata": {},
   "outputs": [],
   "source": []
  }
 ],
 "metadata": {
  "kernelspec": {
   "display_name": "Python 3",
   "language": "python",
   "name": "python3"
  },
  "language_info": {
   "codemirror_mode": {
    "name": "ipython",
    "version": 3
   },
   "file_extension": ".py",
   "mimetype": "text/x-python",
   "name": "python",
   "nbconvert_exporter": "python",
   "pygments_lexer": "ipython3",
   "version": "3.7.1"
  }
 },
 "nbformat": 4,
 "nbformat_minor": 2
}
