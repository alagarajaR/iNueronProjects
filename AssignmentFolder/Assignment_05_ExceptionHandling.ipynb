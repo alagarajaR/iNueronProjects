{
 "cells": [
  {
   "cell_type": "markdown",
   "metadata": {},
   "source": [
    "## 1. Write a function to compute 5/0 and use try/except to catch the exceptions."
   ]
  },
  {
   "cell_type": "code",
   "execution_count": 1,
   "metadata": {},
   "outputs": [
    {
     "name": "stdout",
     "output_type": "stream",
     "text": [
      "Enter any number : 10\n",
      "Enter number it should be divided by : 2\n",
      "Else Section: Try Statement has been executed\n",
      "5.0\n",
      "Finally Section: Try / Except Statement has been executed\n",
      "5.0\n"
     ]
    }
   ],
   "source": [
    "def checkDivide(num,denom):\n",
    "    return num/denom\n",
    "\n",
    "try:\n",
    "    inpuval = int(input(\"Enter any number : \"))\n",
    "    inpuVal2 = int(input(\"Enter number it should be divided by : \"))\n",
    "    result = checkDivide(inpuval,inpuVal2)\n",
    "except ZeroDivisionError as ze:\n",
    "    print(\"Please do not divide a number by zero\")\n",
    "else :\n",
    "    print(\"Else Section: Try Statement has been executed\")\n",
    "    print(result)\n",
    "finally:\n",
    "    print(\"Finally Section: Try / Except Statement has been executed\")\n",
    "    print(result)"
   ]
  },
  {
   "cell_type": "code",
   "execution_count": 2,
   "metadata": {},
   "outputs": [
    {
     "name": "stdout",
     "output_type": "stream",
     "text": [
      "Enter any number : 10\n",
      "Enter number it should be divided by : 0\n",
      "Please do not divide a number by zero\n",
      "Finally Section: Try / Except Statement has been executed\n",
      "5.0\n"
     ]
    }
   ],
   "source": [
    "try:\n",
    "    inpuval = int(input(\"Enter any number : \"))\n",
    "    inpuVal2 = int(input(\"Enter number it should be divided by : \"))\n",
    "    result = checkDivide(inpuval,inpuVal2)\n",
    "except ZeroDivisionError as ze:\n",
    "    print(\"Please do not divide a number by zero\")\n",
    "else :\n",
    "    print(\"Else Section: Try Statement has been executed\")\n",
    "    print(result)\n",
    "finally:\n",
    "    print(\"Finally Section: Try / Except Statement has been executed\")\n",
    "    print(result)"
   ]
  },
  {
   "cell_type": "markdown",
   "metadata": {},
   "source": [
    "## 2. Implement a Python program to generate all sentences where subject is in [\"Americans\", \"Indians\"] and verb is in [\"Play\", \"watch\"] and the object is in [\"Baseball\",\"cricket\"].\n",
    "\n",
    "Hint: Subject,Verb and Object should be declared in the program as shown below.\n",
    "subjects=[\"Americans \",\"Indians\"]\n",
    "verbs=[\"play\",\"watch\"]\n",
    "objects=[\"Baseball\",\"Cricket\"]\n",
    "\n",
    "Output should come as below:\n",
    "\n",
    "\n",
    "#### Americans play Baseball.\n",
    "#### Americans play Cricket.\n",
    "#### Americans watch Baseball.\n",
    "#### Americans watch Cricket.\n",
    "#### Indians play Baseball.\n",
    "#### Indians play Cricket.\n",
    "#### Indians watch Baseball.\n",
    "#### Indians watch Cricket."
   ]
  },
  {
   "cell_type": "code",
   "execution_count": 3,
   "metadata": {},
   "outputs": [
    {
     "name": "stdout",
     "output_type": "stream",
     "text": [
      "Output:\n",
      "Americans play Baseball.\n",
      "Americans play Cricket.\n",
      "Americans watch Baseball.\n",
      "Americans watch Cricket.\n",
      "Indians play Baseball.\n",
      "Indians play Cricket.\n",
      "Indians watch Baseball.\n",
      "Indians watch Cricket.\n"
     ]
    }
   ],
   "source": [
    "subject=[\"Americans\",\"Indians\"]\n",
    "verb=[\"play\",\"watch\"]\n",
    "objects=[\"Baseball\",\"Cricket\"]\n",
    "\n",
    "\n",
    "Syntax = [(sbjct+' '+vrb+' '+Objct+\".\") for sbjct in subject for vrb in verb for Objct in objects]\n",
    "\n",
    "#for Loop for Iteration\n",
    "print(\"Output:\")\n",
    "\n",
    "for syntx in Syntax:    \n",
    "    print(syntx)"
   ]
  }
 ],
 "metadata": {
  "kernelspec": {
   "display_name": "Python 3",
   "language": "python",
   "name": "python3"
  },
  "language_info": {
   "codemirror_mode": {
    "name": "ipython",
    "version": 3
   },
   "file_extension": ".py",
   "mimetype": "text/x-python",
   "name": "python",
   "nbconvert_exporter": "python",
   "pygments_lexer": "ipython3",
   "version": "3.7.1"
  }
 },
 "nbformat": 4,
 "nbformat_minor": 2
}
