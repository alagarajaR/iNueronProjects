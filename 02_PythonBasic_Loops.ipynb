{
 "cells": [
  {
   "cell_type": "markdown",
   "metadata": {},
   "source": [
    "# Python Basic - Loops"
   ]
  },
  {
   "cell_type": "code",
   "execution_count": 2,
   "metadata": {},
   "outputs": [
    {
     "data": {
      "text/plain": [
       "2"
      ]
     },
     "execution_count": 2,
     "metadata": {},
     "output_type": "execute_result"
    }
   ],
   "source": [
    "str1 = \"AR\"\n",
    "len(str1)"
   ]
  },
  {
   "cell_type": "code",
   "execution_count": 3,
   "metadata": {},
   "outputs": [
    {
     "data": {
      "text/plain": [
       "['a', 's', 'd', 'f', 'l', 'k', 'j', 'h', 'g']"
      ]
     },
     "execution_count": 3,
     "metadata": {},
     "output_type": "execute_result"
    }
   ],
   "source": [
    "#List - Way to Add to list\n",
    "l = list(\"asdflkjhg\");\n",
    "l"
   ]
  },
  {
   "cell_type": "code",
   "execution_count": 4,
   "metadata": {},
   "outputs": [
    {
     "data": {
      "text/plain": [
       "9"
      ]
     },
     "execution_count": 4,
     "metadata": {},
     "output_type": "execute_result"
    }
   ],
   "source": [
    "len(l)"
   ]
  },
  {
   "cell_type": "code",
   "execution_count": 7,
   "metadata": {},
   "outputs": [
    {
     "data": {
      "text/plain": [
       "[10, 40, 40, 500, 600]"
      ]
     },
     "execution_count": 7,
     "metadata": {},
     "output_type": "execute_result"
    }
   ],
   "source": [
    "lst = list([10,40,40,500,600])\n",
    "lst"
   ]
  },
  {
   "cell_type": "code",
   "execution_count": 12,
   "metadata": {},
   "outputs": [
    {
     "name": "stdout",
     "output_type": "stream",
     "text": [
      "Sum of All values is :  1190\n"
     ]
    }
   ],
   "source": [
    "# find sum of all the values through loop\n",
    "#for loop\n",
    "sumOfAll = 0\n",
    "for i in lst:\n",
    "    sumOfAll = sumOfAll + i\n",
    "    #print(sumOfAll)\n",
    "print (\"Sum of All values is : \" , sumOfAll)"
   ]
  },
  {
   "cell_type": "code",
   "execution_count": 14,
   "metadata": {},
   "outputs": [
    {
     "name": "stdout",
     "output_type": "stream",
     "text": [
      "['a', 's', 'd', 'f', 'l', 'k', 'j', 'h', 'g']\n",
      "['a', 's', 'd', 'f', 'l', 'k', 'j', 'h', 'g']\n",
      "['a', 's', 'd', 'f', 'l', 'k', 'j', 'h', 'g']\n",
      "['a', 's', 'd', 'f', 'l', 'k', 'j', 'h', 'g']\n",
      "['a', 's', 'd', 'f', 'l', 'k', 'j', 'h', 'g']\n",
      "['a', 's', 'd', 'f', 'l', 'k', 'j', 'h', 'g']\n",
      "['a', 's', 'd', 'f', 'l', 'k', 'j', 'h', 'g']\n",
      "['a', 's', 'd', 'f', 'l', 'k', 'j', 'h', 'g']\n",
      "['a', 's', 'd', 'f', 'l', 'k', 'j', 'h', 'g']\n"
     ]
    }
   ],
   "source": [
    "# List down all the Values\n",
    "for j in l:\n",
    "    print(l)"
   ]
  },
  {
   "cell_type": "code",
   "execution_count": 22,
   "metadata": {},
   "outputs": [
    {
     "name": "stdout",
     "output_type": "stream",
     "text": [
      "Sum of Even Numbers :  24\n",
      "Sum of Odd Numbers :  28\n",
      "Wall time: 986 µs\n"
     ]
    }
   ],
   "source": [
    "%%time\n",
    "## Sum of Odd and Even Numbers\n",
    "\n",
    "lst = list([1,3,4,6,7,8,9,2,3,4,5])\n",
    "\n",
    "sumofOddNumbers = 0\n",
    "sumofEvenNumbers = 0\n",
    "for i in lst:\n",
    "    if i % 2 == 0:\n",
    "        sumofEvenNumbers = sumofEvenNumbers + i\n",
    "    else:\n",
    "        sumofOddNumbers = sumofOddNumbers + i\n",
    "print(\"Sum of Even Numbers : \" , sumofEvenNumbers)\n",
    "print(\"Sum of Odd Numbers : \",  sumofOddNumbers)\n",
    "        "
   ]
  },
  {
   "cell_type": "code",
   "execution_count": 27,
   "metadata": {},
   "outputs": [
    {
     "name": "stdout",
     "output_type": "stream",
     "text": [
      "4\n",
      "5\n",
      "3\n",
      "6\n",
      "2\n",
      "7\n",
      "Sum of Elements till 1 :  27\n"
     ]
    }
   ],
   "source": [
    "# For Loop without Else\n",
    "\n",
    "lst = [4,5,3,6,2,7,1,8,2,9];\n",
    "sum1 = 0;\n",
    "for i in lst:\n",
    "    if i == 1:\n",
    "        break\n",
    "    else:\n",
    "        sum1 = sum1 + i\n",
    "        print(i)\n",
    "    \n",
    "print(\"Sum of Elements till 1 : \",sum1)"
   ]
  },
  {
   "cell_type": "code",
   "execution_count": 34,
   "metadata": {},
   "outputs": [
    {
     "name": "stdout",
     "output_type": "stream",
     "text": [
      "1 was not there\n",
      "Sum of Elements 46\n"
     ]
    }
   ],
   "source": [
    "# For Loop with Else\n",
    "\n",
    "lst = [4,5,3,6,2,7,8,2,9];\n",
    "sum1 = 0;\n",
    "for i in lst:\n",
    "    if i == 1:\n",
    "        break\n",
    "    sum1 = sum1 + i\n",
    "else:\n",
    "    print(\"1 was not there\")\n",
    "print(\"Sum of Elements\",sum1)\n",
    "    "
   ]
  },
  {
   "cell_type": "code",
   "execution_count": 54,
   "metadata": {},
   "outputs": [
    {
     "name": "stdout",
     "output_type": "stream",
     "text": [
      "Sum of Even Numbers :  20\n",
      "Sum of Odd Numbers :  25\n"
     ]
    }
   ],
   "source": [
    "#\n",
    "lst = list([1,2,3,4,5,6,7,8,9])\n",
    "\n",
    "sumofOddNumbers = 0\n",
    "sumofEvenNumbers = 0\n",
    "for i in lst:\n",
    "    if i % 2 == 0:\n",
    "        sumofEvenNumbers = sumofEvenNumbers + i\n",
    "        if sumofEvenNumbers > 20:\n",
    "            break;\n",
    "    else:\n",
    "        sumofOddNumbers = sumofOddNumbers + i\n",
    "        if sumofEvenNumbers > 20:\n",
    "            break;\n",
    "else:\n",
    "    print(\"Sum of Even Numbers : \" , sumofEvenNumbers)\n",
    "    print(\"Sum of Odd Numbers : \",  sumofOddNumbers)"
   ]
  },
  {
   "cell_type": "code",
   "execution_count": 58,
   "metadata": {},
   "outputs": [
    {
     "name": "stdout",
     "output_type": "stream",
     "text": [
      "Sum of Even Numbers :  30\n",
      "Sum of Odd Numbers :  25\n"
     ]
    }
   ],
   "source": [
    "#While Loop\n",
    "# Sum of the Odd and Even Elemements \n",
    "\n",
    "n = 10\n",
    "i = 1\n",
    "sumofOddNumbers = 0\n",
    "sumofEvenNumbers = 0\n",
    "while ( i<=n ) :\n",
    "    if i % 2 == 0:\n",
    "        sumofEvenNumbers = sumofEvenNumbers + i\n",
    "    else:\n",
    "        sumofOddNumbers = sumofOddNumbers + i\n",
    "    i = i + 1\n",
    "print(\"Sum of Even Numbers : \" , sumofEvenNumbers)\n",
    "print(\"Sum of Odd Numbers : \",  sumofOddNumbers)"
   ]
  },
  {
   "cell_type": "code",
   "execution_count": 62,
   "metadata": {},
   "outputs": [
    {
     "name": "stdout",
     "output_type": "stream",
     "text": [
      "55\n"
     ]
    }
   ],
   "source": [
    "#While Loop\n",
    "# Sum of the n Elemements \n",
    "n = 10\n",
    "i = 1\n",
    "sum1 = 0\n",
    "while ( i<=n ) :\n",
    "    sum1 = sum1 + i;\n",
    "    i = i + 1\n",
    "print(sum1)"
   ]
  },
  {
   "cell_type": "code",
   "execution_count": 67,
   "metadata": {},
   "outputs": [
    {
     "data": {
      "text/plain": [
       "[0, 10, 20, 30, 40, 50, 60, 70, 80, 90, 100]"
      ]
     },
     "execution_count": 67,
     "metadata": {},
     "output_type": "execute_result"
    }
   ],
   "source": [
    "#Range\n",
    "list(range(0,110,10))"
   ]
  },
  {
   "cell_type": "code",
   "execution_count": 61,
   "metadata": {},
   "outputs": [
    {
     "data": {
      "text/plain": [
       "[4,\n",
       " 6,\n",
       " 8,\n",
       " 10,\n",
       " 12,\n",
       " 14,\n",
       " 16,\n",
       " 18,\n",
       " 20,\n",
       " 22,\n",
       " 24,\n",
       " 26,\n",
       " 28,\n",
       " 30,\n",
       " 32,\n",
       " 34,\n",
       " 36,\n",
       " 38,\n",
       " 40,\n",
       " 42,\n",
       " 44,\n",
       " 46,\n",
       " 48]"
      ]
     },
     "execution_count": 61,
     "metadata": {},
     "output_type": "execute_result"
    }
   ],
   "source": [
    "#Range \n",
    "\n",
    "list(range(4,50,2))"
   ]
  },
  {
   "cell_type": "code",
   "execution_count": 69,
   "metadata": {},
   "outputs": [
    {
     "data": {
      "text/plain": [
       "[100, 90, 80, 70, 60, 50, 40, 30, 20, 10]"
      ]
     },
     "execution_count": 69,
     "metadata": {},
     "output_type": "execute_result"
    }
   ],
   "source": [
    "#Range - Negative Range\n",
    "\n",
    "list(range(100,0,-10))"
   ]
  },
  {
   "cell_type": "code",
   "execution_count": 73,
   "metadata": {},
   "outputs": [
    {
     "name": "stdout",
     "output_type": "stream",
     "text": [
      "s\n",
      "t\n",
      "r\n",
      "n\n",
      "g\n"
     ]
    }
   ],
   "source": [
    "# Continue \n",
    "for val in \"string\":\n",
    "    if val == \"i\":\n",
    "        continue\n",
    "    print(val)"
   ]
  },
  {
   "cell_type": "code",
   "execution_count": null,
   "metadata": {},
   "outputs": [],
   "source": []
  },
  {
   "cell_type": "code",
   "execution_count": null,
   "metadata": {},
   "outputs": [],
   "source": []
  }
 ],
 "metadata": {
  "kernelspec": {
   "display_name": "Python 3",
   "language": "python",
   "name": "python3"
  },
  "language_info": {
   "codemirror_mode": {
    "name": "ipython",
    "version": 3
   },
   "file_extension": ".py",
   "mimetype": "text/x-python",
   "name": "python",
   "nbconvert_exporter": "python",
   "pygments_lexer": "ipython3",
   "version": "3.7.1"
  }
 },
 "nbformat": 4,
 "nbformat_minor": 2
}
